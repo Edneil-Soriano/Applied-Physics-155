{
 "cells": [
  {
   "cell_type": "code",
   "execution_count": 1,
   "id": "b5420fdd",
   "metadata": {},
   "outputs": [
    {
     "name": "stdout",
     "output_type": "stream",
     "text": [
      "[1.61245155 2.23606798 2.44948974 1.73205081]\n"
     ]
    }
   ],
   "source": [
    "import numpy as np\n",
    "\n",
    "print(np.sqrt([2.6, 5,6,3]))"
   ]
  },
  {
   "cell_type": "code",
   "execution_count": null,
   "id": "15501bb2",
   "metadata": {},
   "outputs": [],
   "source": [
    "for i in range(1, 10):\n",
    "    print('Hi')\n",
    "print(i)"
   ]
  },
  {
   "cell_type": "code",
   "execution_count": null,
   "id": "2a0dd370",
   "metadata": {
    "scrolled": true
   },
   "outputs": [],
   "source": [
    "\n",
    "\n",
    "from gaussxw import gaussxw\n"
   ]
  },
  {
   "cell_type": "code",
   "execution_count": 4,
   "id": "39880f69",
   "metadata": {},
   "outputs": [
    {
     "name": "stdout",
     "output_type": "stream",
     "text": [
      "Defaulting to user installation because normal site-packages is not writeable\n"
     ]
    },
    {
     "name": "stderr",
     "output_type": "stream",
     "text": [
      "ERROR: Could not find a version that satisfies the requirement gaussxw (from versions: none)\n",
      "ERROR: No matching distribution found for gaussxw\n"
     ]
    }
   ],
   "source": [
    "!pip install gaussxw\n"
   ]
  },
  {
   "cell_type": "code",
   "execution_count": null,
   "id": "001d59a6",
   "metadata": {},
   "outputs": [],
   "source": []
  }
 ],
 "metadata": {
  "kernelspec": {
   "display_name": "Python 3 (ipykernel)",
   "language": "python",
   "name": "python3"
  },
  "language_info": {
   "codemirror_mode": {
    "name": "ipython",
    "version": 3
   },
   "file_extension": ".py",
   "mimetype": "text/x-python",
   "name": "python",
   "nbconvert_exporter": "python",
   "pygments_lexer": "ipython3",
   "version": "3.9.12"
  }
 },
 "nbformat": 4,
 "nbformat_minor": 5
}
