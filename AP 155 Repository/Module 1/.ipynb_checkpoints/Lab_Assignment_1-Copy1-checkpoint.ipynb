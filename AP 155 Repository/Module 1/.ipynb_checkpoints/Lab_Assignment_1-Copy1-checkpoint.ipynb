{
 "cells": [
  {
   "cell_type": "markdown",
   "metadata": {
    "id": "G0BcK0H_G1Iu"
   },
   "source": [
    "# **AP155 Lab Assignment** \n",
    "## Module 1: Integrals and Derivatives\n",
    "\n",
    "_Instructions_: Answer each problem as completely as you can. Discuss **all** your answers as clearly and concisely as possible. \n",
    "\n",
    "_Scoring Criteria_: 50% - *correctness of code*; 50% - *discussion of the code and results*. Maximum score is **100 points** (Problems 1 to 5 are worth 20, 20, 10, 30, and 20 points, respectively).\n",
    "\n",
    "_Due Date_: **5PM of November 3 (Thu)**\n",
    "\n"
   ]
  },
  {
   "cell_type": "markdown",
   "metadata": {
    "id": "PeHZ9kP8JaVR"
   },
   "source": [
    "### Student Information \n",
    "\n",
    "Full Name: Soriano, Edneil E. Jr. \\\n",
    "Student No.: 2020 - 02420 \\\n",
    "Section: HX-2\n"
   ]
  },
  {
   "cell_type": "markdown",
   "metadata": {
    "id": "X1UGsRpW-eQs"
   },
   "source": [
    "### Grading Information (c/o Lab Instructor)\n",
    "\n",
    "TOTAL SCORE: **XX**/100\n",
    "\n",
    "Score breakdown:\n",
    "* Problem 1 - XX/20\n",
    "* Problem 2 - XX/20\n",
    "* Problem 3 - XX/10\n",
    "* Problem 4 - XX/30\n",
    "* Problem 5 - XX/20\n",
    "\n",
    "_Date and Time Scored (MM/DD/YYYY HH:MM AM/PM):_ "
   ]
  },
  {
   "cell_type": "markdown",
   "metadata": {
    "id": "Hc183co-J4eI"
   },
   "source": [
    "### Submission Information\n",
    "\n",
    "_Date and Time Submitted (most recent upload)_: \n",
    "\n",
    "**HONOR PLEDGE** I affirm that I have upheld the highest principles of honesty and integrity in my academic work and that this lab assignment is my own work.\n",
    "\n",
    "**Sign here with your full name:** Edneil E. Soriano Jr."
   ]
  },
  {
   "cell_type": "markdown",
   "metadata": {
    "id": "LxWuqiCFMsEh"
   },
   "source": [
    "### PROBLEM 1 (20 pts.) \n",
    "**Integration using the trapezoidal rule and Simpson's rule**\n",
    "\n",
    "Calculate the integral of the function $ 2x^4 + 3x^2 + 4x + 5$ from $x=0$ to $x=5$.\n",
    "\n",
    "1. Do the numerical calculation using the trapezoidal rule with 10, 100, and 1,000 slices. Describe each step of the calculation clearly and concisely. *(8 pts.; 4 pts. for the code & 4 pts. for the discussion text)*\n",
    "\n",
    "2. What are the percentage errors of your answers in (1)? *(2 pts.)*\n",
    "\n",
    "3. Repeat the calculation using Simpson's rule with 10, 100, and 1,000 slices. Describe each step of the calculation clearly and concisely. *(8 pts.;  4 pts. for the code & 4 pts. for the discussion text)*\n",
    "\n",
    "4. What are the percentage errors of your answers in (3)? How do they compare with the results from (1) for the same number of slices? *(2 pts.)*"
   ]
  },
  {
   "cell_type": "code",
   "execution_count": 1,
   "metadata": {
    "colab": {
     "base_uri": "https://localhost:8080/"
    },
    "id": "hMqWOsbIMoUh",
    "outputId": "d830baaa-4a61-453a-8588-d07a35eb8abd"
   },
   "outputs": [
    {
     "name": "stdout",
     "output_type": "stream",
     "text": [
      "Trapezoidal Rule Results [1471.4375     1450.21458125 1450.00214583]\n"
     ]
    },
    {
     "data": {
      "text/plain": [
       "\"\\nThe first element of the array result is for N=10, then N=100. We can add more n values in the N array\\nabove to increase the slices for maximum epik. This won't break the code (I think). \\n\\n\""
      ]
     },
     "execution_count": 1,
     "metadata": {},
     "output_type": "execute_result"
    }
   ],
   "source": [
    "import numpy as np\n",
    "import math\n",
    "\n",
    "a = 0 # we initialize the bound of integration as a and b\n",
    "b = 5\n",
    "N = np.array([10, 100, 1000]) #array\n",
    "H = (b - a)/N    #array, width of each trapezoid\n",
    "\n",
    "\n",
    "# We now have two arrays for N and h\n",
    "\n",
    "# next, we define the function of interest as a function so we can call it easily later (much wow)\n",
    "\n",
    "def f(x):\n",
    "  return 2*x**4 + 3*x**2 + 4*x + 5   \n",
    "\n",
    "\n",
    "\"\"\"\n",
    "Now, we use the formula from the book (eq. 5.3) to approximate the integral.\n",
    "First, we define a function to perform the trapezoidal rule using a single value from N and H\n",
    "We need to separate the terms that are not included in the summations, let us denote them as s \n",
    "\n",
    "input: specific n and h from the arrays N and H\n",
    "\n",
    "output: integral approximation using trapezoidal rule\n",
    "\n",
    "\"\"\"\n",
    "\n",
    "def trapezoidal(func, n, h, a, b):\n",
    "  s = (func(a)/2 + func(b)/2)           # Just the values of the bounds\n",
    "  for k in range(1, n):           \n",
    "    s += func(a + k*h)               # We do the summation in eq. 5.3\n",
    "  return h*s                      # This returns the approximate integral given an N\n",
    "\n",
    "\"\"\"\n",
    "Now, we iterate the function trapezoidal() over all values in N; first we initialize an array to store results\n",
    "\n",
    "\"\"\"\n",
    "result_array = np.zeros(len(N))       # we will store the answers here\n",
    "\n",
    "for i in range(len(N)):\n",
    "  result = trapezoidal(f, N[i], H[i], a, b)\n",
    "  result_array[i] = result\n",
    "  \n",
    "print(\"Trapezoidal Rule Results \" + str(result_array))\n",
    "\n",
    "\n",
    "\"\"\"\n",
    "The first element of the array result is for N=10, then N=100. We can add more n values in the N array\n",
    "above to increase the slices for maximum epik. This won't break the code (I think). \n",
    "\n",
    "\"\"\"\n"
   ]
  },
  {
   "cell_type": "code",
   "execution_count": 2,
   "metadata": {
    "colab": {
     "base_uri": "https://localhost:8080/"
    },
    "id": "Ly_nYYI_OoxJ",
    "outputId": "9c77ad3d-b17d-4f62-ddb5-807b07ae6c57"
   },
   "outputs": [
    {
     "name": "stdout",
     "output_type": "stream",
     "text": [
      "Trapezoidal Rule Errors [1.47844828e-02 1.47987069e-04 1.47988491e-06]\n"
     ]
    }
   ],
   "source": [
    "\"\"\"\n",
    "We know that by solving it analytically the value of the integral is 1450.\n",
    "Hence, we can calculate the percent errors by calling an error function\n",
    "with the result_array array as its argument. \n",
    "\n",
    "\"\"\"\n",
    "\n",
    "def e(x):\n",
    "  return abs((x - 1450)/1450)\n",
    "\n",
    "E = e(result_array)\n",
    "\n",
    "print(\"Trapezoidal Rule Errors \" + str(E)) # the first element corresponds to N = 10, then 100, then etc.."
   ]
  },
  {
   "cell_type": "code",
   "execution_count": 3,
   "metadata": {
    "colab": {
     "base_uri": "https://localhost:8080/"
    },
    "id": "u17KqO9-QBwx",
    "outputId": "e6c7c3a3-d9ed-40d3-90fe-6893b2f2c352"
   },
   "outputs": [
    {
     "name": "stdout",
     "output_type": "stream",
     "text": [
      "Simpson's Rule Results [1450.08333333 1450.00000833 1450.        ]\n",
      "Simpson's Rule Errors [5.74712644e-05 5.74712666e-09 5.75333804e-13]\n"
     ]
    }
   ],
   "source": [
    "\"\"\"\n",
    "We define a function that performs Simpson's rule given a particular n slices and h. \n",
    "\"\"\"\n",
    "\n",
    "def simpson(func, n, h, a, b):\n",
    "  s_2 = func(a) + func(b)         # we have an initial value for s\n",
    "\n",
    "  for k in range(1, n, 2):\n",
    "    s_2 += 4 * func(a + k*h)     # we apply the summation over all odds\n",
    "  for k in range(2, n, 2):\n",
    "    s_2 += 2 * func(a + k*h)     # we apply the summation over all evens\n",
    "\n",
    "  s_2 = s_2*(1/3)*h           # we multiply the sums to the h/3 factor\n",
    "\n",
    "  return s_2\n",
    "\n",
    "# Now, we iterate over all values of N and H, using the simpson() function\n",
    "\n",
    "result_array_2 = np.zeros(len(N))     # this is where we will store the results for Simpson's Rule\n",
    "\n",
    "\n",
    "for i in range(len(N)):\n",
    "  result = simpson(f, N[i], H[i], a, b)\n",
    "  result_array_2[i] = result\n",
    "\n",
    "print(\"Simpson's Rule Results \" + str(result_array_2))\n",
    "\n",
    "# We already defined a function for error e(), we will use this to get the errors:\n",
    "\n",
    "E_2 = e(result_array_2)\n",
    "print(\"Simpson's Rule Errors \" + str(E_2))"
   ]
  },
  {
   "cell_type": "markdown",
   "metadata": {
    "id": "Sql3VDDgd5Vt"
   },
   "source": [
    "We can see that the errors for the Simpson's Rule approximation is much much less than by using the Trapezoidal rule. The errors for the Trapezoidal rule scale down by a factor of 10^2 while that of the Simpson's rule scale down by a factor of 10^4, given that we increase N by a factor of 10. \n"
   ]
  },
  {
   "cell_type": "markdown",
   "metadata": {
    "id": "kBX9EyMLOnXj"
   },
   "source": [
    "### PROBLEM 2 (20 pts.)\n",
    "\n",
    "**Integration using the adaptive trapezoidal rule method and Romberg integration**\n",
    "\n",
    "Calculate the integral $ I = \\int_0^1 \\sin^2 \\sqrt{100x} \\mbox{d}x $.\n",
    "\n",
    "1. Do the numerical calculation using the adaptive trapezoidal rule method to an approximate accuracy of $\\epsilon = 10^{-6}$. Start with one single integration slice and work up from there to two, four, eight, and so forth. Save and print out the number of slices, its estimate of the integral, and its estimate of the error on the integral, for each value of the number of slices $N$, until the target accuracy is reached. *(8 pts.; 4 pts. for the code & 4 pts. for the discussion text)*\n",
    "\n",
    "2. Repeat the calculation using the Romberg integration technique. Save and print out the same variables as in (1). *(8 pts.; 4 pts. for the code & 4 pts. for the discussion text)*\n",
    "\n",
    "3. Compare the results from both calculations by creating a plot of error estimates vs. $N$. Annotate your chart completely (include proper axis labels and legend). Describe how the trends for the two techniques compare. *(4 pts.; 2 pts. for the chart & 2 pts. for the discussion text)*"
   ]
  },
  {
   "cell_type": "code",
   "execution_count": 4,
   "metadata": {
    "scrolled": true
   },
   "outputs": [
    {
     "name": "stdout",
     "output_type": "stream",
     "text": [
      "[   1    2    4    8   16   32   64  128  256  512 1024 2048 4096]\n",
      "[1.00000000e+00 5.90841411e-02 6.23503143e-02 3.64284674e-02\n",
      " 9.03530694e-03 6.10376550e-03 1.83275514e-03 4.78524386e-04\n",
      " 1.20920693e-04 3.03110661e-05 7.58282692e-06 1.89602308e-06\n",
      " 4.74025542e-07]\n",
      "[0.14797948 0.32523191 0.51228285 0.40299745 0.43010337 0.44841467\n",
      " 0.45391293 0.4553485  0.45571127 0.4558022  0.45582495 0.45583064\n",
      " 0.45583206]\n"
     ]
    }
   ],
   "source": [
    "\"\"\"\n",
    "First, we choose an initial number of steps. Then, we initialize the desired error and integration bound in variables\n",
    "because it's an epik gamer move. Also, we define the integrand of I for item 2.  \n",
    "\n",
    "input: array/ float\n",
    "output: evaluated function\n",
    "\"\"\"\n",
    "\n",
    "# ================ FILL THESE OUT: ================\n",
    "a_bound = 0\n",
    "b_bound = 1                                # bounds for integration, a muna bago b\n",
    "des_err = 10**(-6)                         # desired error, use something LESS than 1 because duh\n",
    "N_adap_1 = 1                               # initial slices\n",
    "\n",
    "def g(x):\n",
    "    return (math.sin(math.sqrt(100*x)))**2 # put integrand here\n",
    "\n",
    "# ================ DON'T FILL ANYTHING BEYOND THIS POINT ================\n",
    "\n",
    "\"\"\"\n",
    "We define eq(5.34) below;\n",
    "\n",
    "args: function of interest(func) - function, \n",
    "      previous integral approximation(I_prev) - float,\n",
    "      current number of slices(N) - int,\n",
    "      current width of slices(h) - float,\n",
    "      a and b are the bounds of integration. \n",
    "output: integral approximation (float)\n",
    "\"\"\"\n",
    "\n",
    "\n",
    "def eval_curr(func, I_prev, N, h, a, b):    # this is just eq(5.34)\n",
    "    s = 0.5 * I_prev\n",
    "    for k in range(1, N, 2):\n",
    "        s += h * func(a + k*h)\n",
    "    \n",
    "    return s\n",
    "\n",
    "\"\"\"\n",
    "Then, we calculate the error using eq(5.30). We repeat this process until we get an error equal to or slightly\n",
    "less than des_err. \n",
    "\"\"\"\n",
    "\n",
    "def error_adap(I, I_prev):                  # this is just eq(5.30)\n",
    "    return abs((1/3)*(I - I_prev))\n",
    "\n",
    "\"\"\"\n",
    "we define the adaptive trapezoidal function below\n",
    "\n",
    "args:\n",
    "\n",
    "g - integrand (python function)\n",
    "eval_curr - implementation of equation 5.34 of Newman (python function)\n",
    "error_adap - implementation of equation 5.30 of Newman (python function)\n",
    "trapezoidal - implentation of equation 5.3 of Newman; normal Trapezoidal rule (python function)\n",
    "N_adap_1 - initial number of slices (int)\n",
    "a_bound / b_bound - integration bounds (float)\n",
    "\n",
    "output: three arrays including the slices N, the errors, and the integral approximations\n",
    "\"\"\"\n",
    "\n",
    "\n",
    "def adap_trapezoidal(g, eval_curr, error_adap, trapezoidal, N_adap_1, a_bound, b_bound):\n",
    "    \n",
    "    h_adap_1 = (b_bound - a_bound)/N_adap_1    # initial width of slices\n",
    "\n",
    "# Now, we calculate the initial approximation using the trapezoidal(func, n, h, a, b) function. \n",
    "# We instead use g(x) instead of f(x) for func, but the equation is the same (5.3). \n",
    "\n",
    "    I_adap_1 = trapezoidal(g, N_adap_1, h_adap_1, a_bound, b_bound) # initial approximation\n",
    "\n",
    "# Given this initial evaluated integral, our goal is double the number of slices and then approximate that integral as \n",
    "# I_adap_2. We can use eq(5.34) to calculate this next integral in order for us to avoid extra calculations. \n",
    "\n",
    "# Then, we calculate the error using eq(5.30). We repeat this process until we get an error equal to or slightly\n",
    "# less than des_err. Note that the two equations mentioned are implemented as python functions. \n",
    "\n",
    "    N_adap = np.array([N_adap_1])               # initialize values for slices, make it an array\n",
    "    h_adap = np.array([h_adap_1])\n",
    "    errors_adap = np.array([1])                 # we initialize the errors of each step for later. We set the initial error to 1\n",
    "                                                # but in reality there should be no value here. I didn't choose 0 as a place holder\n",
    "                                                # because the while loop below will break. \n",
    "    results_array_adap = np.array([I_adap_1])   # we also initialize an array of the integral estimates for graphing \n",
    "    count = 0            \n",
    "    \n",
    "    while errors_adap[-1] >= des_err:\n",
    "    \n",
    "        N_adap = np.append(N_adap, N_adap[count] * 2)         # update array containing number of slices \n",
    "        next_h_adap = (b_bound - a_bound) / N_adap[count + 1] # use the latest N to compute the latest h\n",
    "        h_adap = np.append(h_adap, next_h_adap)               # store it in the array\n",
    "        I_adap_curr = eval_curr(g, results_array_adap[count], N_adap[count + 1], h_adap[count + 1], a_bound, b_bound) # evaluate next integral\n",
    "        results_array_adap = np.append(results_array_adap, I_adap_curr) # store it in the array\n",
    "        error_adap_curr = error_adap(results_array_adap[count + 1], results_array_adap[count])  # evaluate error\n",
    "        errors_adap = np.append(errors_adap, error_adap_curr)  # tore it in the array\n",
    "\n",
    "        count += 1 # add 1 to the counter\n",
    "    \n",
    "    return(N_adap, errors_adap, results_array_adap)\n",
    "\n",
    "print(adap_trapezoidal(g, eval_curr, error_adap, trapezoidal, N_adap_1, a_bound, b_bound\n",
    ")[0])\n",
    "print(adap_trapezoidal(g, eval_curr, error_adap, trapezoidal, N_adap_1, a_bound, b_bound\n",
    ")[1])\n",
    "print(adap_trapezoidal(g, eval_curr, error_adap, trapezoidal, N_adap_1, a_bound, b_bound\n",
    ")[2])\n",
    "\n",
    "\n",
    "# the three arrays returned are :\n",
    "# the slices N (1st), the errors (2nd), the integral approximations (3rd)\n",
    "    "
   ]
  },
  {
   "cell_type": "code",
   "execution_count": 5,
   "metadata": {},
   "outputs": [
    {
     "ename": "IndentationError",
     "evalue": "expected an indented block (2791865356.py, line 25)",
     "output_type": "error",
     "traceback": [
      "\u001b[1;36m  Input \u001b[1;32mIn [5]\u001b[1;36m\u001b[0m\n\u001b[1;33m    for k in range (size):\u001b[0m\n\u001b[1;37m    ^\u001b[0m\n\u001b[1;31mIndentationError\u001b[0m\u001b[1;31m:\u001b[0m expected an indented block\n"
     ]
    }
   ],
   "source": [
    "\n",
    "\n",
    "N_romb_1 = 1     # fill this out\n",
    "\n",
    "\n",
    "\n",
    "h_romb_1 = (b_bound - a_bound) / N_romb_1\n",
    "size = 5                                  # initial size of the romberg matrix\n",
    "romberg_matrix = np.zeroes(size, size)\n",
    "\n",
    "\n",
    "\n",
    "N_romb = np.array([N_romb_1])\n",
    "h_romb = np.array([h_romb_1])\n",
    "errors_romb = np.array([1])        # set the arrays for storage\n",
    "\n",
    "count = 0\n",
    "while errors_romb[-1] > des_err:\n",
    "    if romberg_matrix[0,0] == 0:   # if there are no values for row 0 yet, \n",
    "        for i in range(size):\n",
    "            N_romb = np.append(N_romb, N_romb[i] * 2)             # update next N as per adaptive trapezoidal\n",
    "            h_romb = np.append((b_bound - a_bound) / N_romb[-1])  # update next h as per adaptive trapezoidal\n",
    "            romberg_matrix[i, 0] = trapezoidal(g, N_romb[i], h_romb[i], a_bound, b_bound)\n",
    "        print(romberg_matrix)\n",
    "    else:\n",
    "        \n",
    "    \n",
    "    \n",
    "    N_romb = np.append(N_romb, N_romb[count] * 2)           # store the N for the next row\n",
    "    next_h_romb = (b_bound - a_bound) / N_romb[count + 1]   # get the corresponding h\n",
    "    h_romb = np.append(h_romb, next_h_romb)                 # store it\n",
    "    \n",
    "    \n",
    "    \n",
    "    \n",
    "    \n",
    "\n",
    "    \n",
    "    \n",
    "    \n",
    "\n",
    "for k in range (size):\n",
    "    if size == 10:\n",
    "        break\n",
    "    else:\n",
    "        N_romb = 2 * N_romb_1\n",
    "        h_romb =  (b_bound - a_bound) / N_romb\n",
    "        romberg_array[k, 0] = trapezoidal(g, 2*k, h_romb, a_bound, b_bound)\n"
   ]
  },
  {
   "cell_type": "markdown",
   "metadata": {
    "id": "Hl_y03ZBeVT1"
   },
   "source": []
  },
  {
   "cell_type": "markdown",
   "metadata": {
    "id": "m2a6sg90R-NX"
   },
   "source": [
    "### PROBLEM 3 (10 pts.)\n",
    "\n",
    "**Integration using Gaussian quadrature**\n",
    "\n",
    "Calculate the integral from Problem 1 using the Gaussian quadrature method: $ 2x^4 + 3x^2 + 4x + 5$ from $x=0$ to $x=5$.\n",
    "\n",
    "1. Define the function $\\tt gaussxw$ from Appendix E of the Newman text (and run the cell). *(2 pts.)*\n",
    "\n",
    "2. Calculate the integral using the $\\tt gaussxw$ function in (1) and number of slices $N = 3$. Describe each step in the calculation clearly and concisely. *(8 pts.; 4 pts. for the code & 4 pts. for the discussion text)*"
   ]
  },
  {
   "cell_type": "code",
   "execution_count": null,
   "metadata": {
    "id": "YO_PDJ4VIVs5"
   },
   "outputs": [],
   "source": []
  },
  {
   "cell_type": "markdown",
   "metadata": {
    "id": "HceOjNu-VfN9"
   },
   "source": [
    "### PROBLEM 4 (30 pts.)\n",
    "\n",
    "**Physics Application: Anharmonic Oscillator**\n",
    "\n",
    "_Refer to Exercise 5.10 of the Newman text._ Consider an anharmonic oscillator with potential $V(x)$ symmetric about $x = 0$. Let us set our anharmonic oscillator going with amplitude $a$. That is, at $t = 0$ we release it from rest at position $x = a$ and it swings back towards the origin. Then at $t = 0$ we have $dx/dt = 0$ and the equation for its total energy becomes $E = V(a)$, i.e., the total energy of the particle is given in terms of the amplitude.\n",
    "\n",
    "When the particle reaches the origin for the first time, it has gone through one quarter of a period of the oscillator. The period $T$ is given by: $$ T = \\sqrt{8m} \\int_0^a \\frac{dx}{\\sqrt{V(a)-V(x)}}. $$\n",
    "\n",
    "1. Suppose the potential is $V(x) = x^4$ and the mass of the particle is $m = 1$. Write a Python function that calculates the period of the oscillator for given amplitude a using Gaussian quadrature with $N = 20$ points. Describe each step clearly and concisely. *(16 pts.; 8 pts. for the code & 8 pts. for the discussion text)*\n",
    "\n",
    "2. Use your function to make a graph of the period for amplitudes ranging from $a = 0$ to $a = 2$. Describe the behavior you find and explain these results clearly and concisely. *(14 pts.; 7 pts. for the plot & 7 pts. for the discussion text)*"
   ]
  },
  {
   "cell_type": "code",
   "execution_count": null,
   "metadata": {
    "id": "p28JF-OQYock"
   },
   "outputs": [],
   "source": []
  },
  {
   "cell_type": "markdown",
   "metadata": {
    "id": "BY5x-mZsYoqG"
   },
   "source": [
    "### PROBLEM 5 (20 pts.)\n",
    "\n",
    "**Differentiation using central difference**\n",
    "\n",
    "1. Calculate the derivative of the function $1 + \\frac{1}{2} \\tanh 2x$ in the range $-2 \\le x \\le 2$ using central difference. Describe each step of the calculation clearly and concisely. *(10 pts.; 5 pts. for the code & 5 pts. for the discussion text)*\n",
    "\n",
    "2. Calculate an analytic formula for the derivative and make a graph with your numerical result and the analytic answer on the same plot. Plot the exact answer as lines and the numerical one as dots. Describe how the two results compare. *(10 pts.; 5 pts. for the code & 5 pts. for the discussion text)*"
   ]
  },
  {
   "cell_type": "code",
   "execution_count": null,
   "metadata": {
    "id": "ZWXWJyYdLS5G"
   },
   "outputs": [],
   "source": []
  }
 ],
 "metadata": {
  "colab": {
   "collapsed_sections": [],
   "provenance": []
  },
  "kernelspec": {
   "display_name": "Python 3 (ipykernel)",
   "language": "python",
   "name": "python3"
  },
  "language_info": {
   "codemirror_mode": {
    "name": "ipython",
    "version": 3
   },
   "file_extension": ".py",
   "mimetype": "text/x-python",
   "name": "python",
   "nbconvert_exporter": "python",
   "pygments_lexer": "ipython3",
   "version": "3.9.12"
  }
 },
 "nbformat": 4,
 "nbformat_minor": 1
}
