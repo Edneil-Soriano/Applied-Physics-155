{
 "cells": [
  {
   "cell_type": "markdown",
   "metadata": {
    "id": "G0BcK0H_G1Iu"
   },
   "source": [
    "# **AP155 Lab Assignment** \n",
    "## Module 3: Solution of Linear and Nonlinear Equations\n",
    "\n",
    "_Instructions_: Answer each problem as completely as you can. Discuss **all** your answers as clearly and concisely as possible. \n",
    "\n",
    "_Scoring Criteria_: 50% - *correctness of code*; 50% - *discussion of the code and results*. Maximum score is **100 points** (Problems 1 to 5 are worth 15, 15, 15, 25, and 30 points, respectively).\n",
    "\n",
    "_Due Date_: **5PM of November 9 (Tue)**\n"
   ]
  },
  {
   "cell_type": "markdown",
   "metadata": {
    "id": "PeHZ9kP8JaVR"
   },
   "source": [
    "### Student Information \n",
    "\n",
    "_Full Name (Last Name, First Name)_: Soriano, Edneil E. Jr.\\\n",
    "_Student No._: 2020-02420\\\n",
    "_Section_: HX-2"
   ]
  },
  {
   "cell_type": "markdown",
   "metadata": {
    "id": "Hc183co-J4eI"
   },
   "source": [
    "### Submission Information\n",
    "\n",
    "_Date and Time Submitted (most recent upload)_: \n",
    "\n",
    "**HONOR PLEDGE** I affirm that I have upheld the highest principles of honesty and integrity in my academic work and that this lab assignment is my own work.\n",
    "\n",
    "**Sign here with your full name:** Edneil E. Soriano Jr."
   ]
  },
  {
   "attachments": {},
   "cell_type": "markdown",
   "metadata": {
    "id": "4LUwfsfMBmvd"
   },
   "source": [
    "### Grading Information (c/o Lab Instructor)\n",
    "\n",
    "TOTAL SCORE: **96.5**/100\n",
    "\n",
    "Score breakdown:\n",
    "* Problem 1 - 15/15\n",
    "* Problem 2 - 14.5/15\n",
    "* Problem 3 - 15/15\n",
    "* Problem 4 - 25/25\n",
    "* Problem 5 - 27/30\n",
    "\n",
    "_Date and Time Scored (MM/DD/YYYY HH:MM AM/PM):_ "
   ]
  },
  {
   "cell_type": "markdown",
   "metadata": {
    "id": "LxWuqiCFMsEh"
   },
   "source": [
    "### PROBLEM 1 (15 pts.; 50/50 for code & discussion) \n",
    "**Calculate the inverse of a matrix and LU decomposition**\n",
    "\n",
    "1. Use numpy's $\\tt linalg$ package to calculate the inverse of the ff. matrix *(5 pts.)*: \n",
    "\n",
    "$ \\begin{equation} \n",
    "{\\bf A} = \n",
    "\\begin{pmatrix} \n",
    "4 & -2 & 1 \\\\\n",
    "3 & 6 & -4 \\\\\n",
    "2 & 1 & 8 \n",
    "\\end{pmatrix} \\end{equation} $\n",
    "\n",
    "2. Check your inverse in both directions; that is, check that ${\\bf AA}^{−1} = {\\bf A}^{−1}{\\bf A} = {\\bf I}$. Up to how many number of decimal places is this true? *(5 pts.)*\n",
    "\n",
    "3. Let this matrix $\\bf A$ be used to describe three simultaneous linear equations, ${\\bf Ax = b}$. Solve for the vector $\\bf x$ given\n",
    "${\\bf b} = \\begin{pmatrix} \n",
    "12 \\\\ \n",
    "-25 \\\\ \n",
    "32 \n",
    "\\end{pmatrix}$ using: (i) the numerical inverse calculated in (1) and (ii) LU decomposition and backsubstitution with numpy's $\\tt linalg$ package. *(5 pts. each)*\n"
   ]
  },
  {
   "cell_type": "code",
   "execution_count": 1,
   "metadata": {},
   "outputs": [],
   "source": [
    "import numpy as np\n",
    "import matplotlib.pyplot as plt"
   ]
  },
  {
   "cell_type": "code",
   "execution_count": 2,
   "metadata": {
    "id": "hMqWOsbIMoUh",
    "scrolled": true
   },
   "outputs": [
    {
     "name": "stdout",
     "output_type": "stream",
     "text": [
      "[[ 0.19771863  0.06463878  0.00760456]\n",
      " [-0.121673    0.11406844  0.07224335]\n",
      " [-0.03422053 -0.03041825  0.11406844]]\n"
     ]
    }
   ],
   "source": [
    "from numpy.linalg import inv     # we import the packages needed for the problems\n",
    "\n",
    "A = np.array([[4, -2, 1],        # create the matrix\n",
    "             [3, 6, -4],\n",
    "             [2, 1, 8]])\n",
    "\n",
    "A_inv = inv(A)                   # calculate the inverse\n",
    "\n",
    "print(A_inv)"
   ]
  },
  {
   "cell_type": "code",
   "execution_count": 3,
   "metadata": {
    "scrolled": true
   },
   "outputs": [
    {
     "name": "stdout",
     "output_type": "stream",
     "text": [
      "[[ 1.00000000e+00 -1.38777878e-17  0.00000000e+00]\n",
      " [ 2.77555756e-17  1.00000000e+00  0.00000000e+00]\n",
      " [ 5.55111512e-17  2.77555756e-17  1.00000000e+00]]\n",
      "[[ 1.00000000e+00 -1.04083409e-17  0.00000000e+00]\n",
      " [ 5.55111512e-17  1.00000000e+00 -1.11022302e-16]\n",
      " [ 2.77555756e-17  0.00000000e+00  1.00000000e+00]]\n",
      "good job waltuh\n"
     ]
    }
   ],
   "source": [
    "\"\"\"\n",
    "Now, we do item 2. We know that multiplaction is commutative so both of the equations \n",
    "A • A_inv and A_inv • A shoud be equal to the identity matrix. We test the first one:\n",
    "\"\"\"\n",
    "\n",
    "mult_1 = np.matmul(A, A_inv)    # multiply  A • A_inv\n",
    "mult_2 = np.matmul(A_inv, A)    # multiply  A_inv • A\n",
    "\n",
    "print(mult_1)                   # print one of the products to check if it's equal to thhe identity matrix\n",
    "print(mult_2)\n",
    "\n",
    "if np.allclose(mult_1, mult_2): # if the two products are equal (excluding floating point errors), mike will congratulate\n",
    "                                # waltuh. If not he will urge waltuh to do the calculations again. \n",
    "    print('good job waltuh')\n",
    "else:\n",
    "    print('waltuh, check ur matrices again waltuh')"
   ]
  },
  {
   "cell_type": "markdown",
   "metadata": {},
   "source": [
    "Note that there are floating point errors, but we know that this is supposed to be the identity matrix. The entries\n",
    "at the upper and lower triangles are VERY VERY close to 0. They are equal up to the 10^(-16)th place."
   ]
  },
  {
   "cell_type": "code",
   "execution_count": 4,
   "metadata": {},
   "outputs": [
    {
     "name": "stdout",
     "output_type": "stream",
     "text": [
      "[ 1. -2.  4.]\n",
      "[ 1. -2.  4.]\n",
      "good job waltuh\n"
     ]
    }
   ],
   "source": [
    "\"\"\"\n",
    "Now, we do item 3. First, we check A_inv • b. \n",
    "\n",
    "\"\"\"\n",
    "from numpy.linalg import solve  # we use this later on the 2nd method\n",
    "\n",
    "b = np.array([12, -25, 32])     # this is the vector b\n",
    "\n",
    "\n",
    "x_vec1 = np.matmul(A_inv, b)    # we solve for the vector x using the numerical inverse\n",
    "\n",
    "print(x_vec1)\n",
    "\n",
    "x_vec2 = solve(A, b)            # we solve for the vector x using np.linalg.solve()\n",
    "                                # args: the matrix A, then the sums b\n",
    "\n",
    "print(x_vec2)\n",
    "\n",
    "if np.allclose(x_vec1, x_vec2): # if the two vectors are equal (excluding floating point errors), mike will congratulate\n",
    "                                # waltuh. If not he will urge waltuh to do the calculations again. \n",
    "    print('good job waltuh')\n",
    "else:\n",
    "    print('waltuh, check ur matrices again waltuh')"
   ]
  },
  {
   "attachments": {},
   "cell_type": "markdown",
   "metadata": {},
   "source": [
    "##### Comments - Leo\n",
    "\n",
    "- **Score: 15/15**"
   ]
  },
  {
   "cell_type": "markdown",
   "metadata": {
    "id": "kBX9EyMLOnXj"
   },
   "source": [
    "### PROBLEM 2 (15 pts.; 50/50 for code & discussion)\n",
    "\n",
    "**Solve for eigenvalues and eigenvectors of a symmetric matrix**\n",
    "\n",
    "1. Use numpy's $\\tt linalg$ package to find the eigenvalues and eigenvectors of the ff. symmetrix matrix *(10 pts.)*: \n",
    "\n",
    "$ \\begin{equation} \n",
    "{\\bf A} = \n",
    "\\begin{pmatrix} \n",
    "8 & -2 & -20 \\\\\n",
    "-2 & -3 & -9 \\\\\n",
    "-20 & -9 & -3 \n",
    "\\end{pmatrix} \\end{equation} $\n",
    "\n",
    "2. Check your answer numerically; that is, check that $\\bf AV = VD$, where the $N$ x $N$ matrix $\\bf V$ has the eigenvectors as its columns and $\\bf D$ is the diagonal matrix with the eigenvalues $\\lambda_i$ as its diagonal entries. *(5 pts.)*"
   ]
  },
  {
   "cell_type": "markdown",
   "metadata": {},
   "source": [
    "nice try waltuh, the two multiples are equal waltuh"
   ]
  },
  {
   "cell_type": "code",
   "execution_count": 5,
   "metadata": {
    "id": "GABjwlXCR97i"
   },
   "outputs": [
    {
     "name": "stdout",
     "output_type": "stream",
     "text": [
      "[[ 0.52496527  0.76748685  0.36793396]\n",
      " [ 0.40892672  0.15169114 -0.89987151]\n",
      " [ 0.74645187 -0.62285932  0.2342133 ]]\n",
      "\n",
      "[[-21.99606195   0.           0.        ]\n",
      " [  0.          23.83584674   0.        ]\n",
      " [  0.           0.           0.16021522]]\n",
      "\n",
      "good job waltuh\n"
     ]
    }
   ],
   "source": [
    "import numpy.linalg as la        # yep\n",
    "\n",
    "A = np.array([[8, -2, -20],      # yeppers\n",
    "             [-2, -3, -9],\n",
    "             [-20, -9, -3]])\n",
    "\n",
    "eig_val2, eig_vec2 = la.eig(A)   # calculate the eigenvalues and eigenvectors that will satisfy A*(eig_vec) = A*(eig_val)\n",
    "\n",
    "#eig_val          eigenvalues as an array\n",
    "print(eig_vec2)        # output is matrix with each colum representing an eigenvector, very convenient\n",
    "print('')\n",
    "# note that eig_val2[i] corresponds to eig_vec2[:, i], i.e. each COLUMN corresponds to an eigenvector\n",
    "\n",
    "\n",
    "eigen_diag = np.diag(eig_val2)   # convert eigenvaLue array to diagonal matrix\n",
    "\n",
    "print(eigen_diag)\n",
    "print('')\n",
    "\n",
    "\n",
    "eig_mult1 = np.matmul(A,eig_vec2)            # this is the RHS\n",
    "eig_mult2 = np.matmul(eig_vec2, eigen_diag)  # this is the LHS\n",
    "\n",
    "\n",
    "if np.allclose(eig_mult1, eig_mult2):        # if mike congratulates us, we done. This checks as in item 1\n",
    "    print('good job waltuh')\n",
    "else:\n",
    "    print('check again, waltuh')"
   ]
  },
  {
   "cell_type": "markdown",
   "metadata": {},
   "source": [
    "NOTE: The “h” in eigh and eigvalsh stand for Hermitian – these functions assume that the matrix (A) is symmetric (if real) or Hermitian (if complex). \n",
    "\n",
    "For non-symmetric/non-Hermitian matrices, use functions eig and eigvals (also in the linalg package)."
   ]
  },
  {
   "attachments": {},
   "cell_type": "markdown",
   "metadata": {},
   "source": [
    "##### Comments - Leo\n",
    "\n",
    "- Same with number 01, up to what accuracy are the two matrices (LHS and RHS) equal?\n",
    "- **Score: 14.5/15**"
   ]
  },
  {
   "cell_type": "markdown",
   "metadata": {
    "id": "m2a6sg90R-NX"
   },
   "source": [
    "### PROBLEM 3 (15 pts.; 50/50 for code & discussion)\n",
    "\n",
    "**Physics Application: Rigid body rotations with matrices**\n",
    "\n",
    "Consider the cube in this figure:\n",
    "\n",
    "![fig_cube.png](data:image/png;base64,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)"
   ]
  },
  {
   "cell_type": "markdown",
   "metadata": {
    "id": "eVJvwbuv0GSI"
   },
   "source": [
    "The cube has an inertia tensor for axes at the center:\n",
    "\n",
    "$ \\begin{equation} \n",
    "{\\bf I} = \n",
    "\\begin{pmatrix} \n",
    "2/3 & -1/4 & -1/4 \\\\\n",
    "-1/4 & 2/3 & -1/4 \\\\\n",
    "-1/4 & -1/4 & 2/3 \n",
    "\\end{pmatrix}. \\end{equation} $\n",
    "\n",
    "The cube is rotated with the three angular velocities:\n",
    "\n",
    "$ \\begin{equation} \n",
    "{\\bf \\omega} = \n",
    "\\begin{pmatrix}\n",
    "1 \\\\ 0 \\\\ 0\n",
    "\\end{pmatrix}, \\ {\\bf \\omega} = \n",
    "\\begin{pmatrix}\n",
    "0 \\\\ 1 \\\\ 0\n",
    "\\end{pmatrix} \\ {\\bf \\omega} = \n",
    "\\begin{pmatrix}\n",
    "1 \\\\ 1 \\\\ 1\n",
    "\\end{pmatrix}\n",
    "\\end{equation} $"
   ]
  },
  {
   "cell_type": "markdown",
   "metadata": {
    "id": "m3zl_Q4S1nep"
   },
   "source": [
    "1. Compute the angular momentum vector $\\bf L$ via the matrix multiplication ${\\bf L} = {\\bf I\\omega}$ for each case. (5 pts.)\n",
    "\n",
    "2. Make three 3-D plots for ${\\bf \\omega}$ and ${\\bf L}$ for each case. Label and describe your plots clearly. (10 pts.)"
   ]
  },
  {
   "cell_type": "code",
   "execution_count": 6,
   "metadata": {
    "id": "A2vxCvzvVe60"
   },
   "outputs": [
    {
     "name": "stdout",
     "output_type": "stream",
     "text": [
      "[[ 0.66666667 -0.25        0.16666667]\n",
      " [-0.25        0.66666667  0.16666667]\n",
      " [-0.25       -0.25        0.16666667]]\n",
      "[[1 0 1]\n",
      " [0 1 1]\n",
      " [0 0 1]]\n"
     ]
    }
   ],
   "source": [
    "I = np.array([[2/3, -1/4, -1/4],\n",
    "             [-1/4, 2/3, -1/4],\n",
    "             [-1/4, -1/4, 2/3]])\n",
    "\n",
    "w_array = np.array([[1, 0, 1],     # we store the angular velocity vectors as the columns in this matrix\n",
    "                    [0, 1, 1],\n",
    "                    [0, 0, 1]])\n",
    "\n",
    "ang_mom_array = np.zeros(shape = w_array.shape) # this means angular momentum, not angry mom lmao\n",
    "\n",
    "for i in range(w_array.shape[1]):  # iterate over number of columns\n",
    "    curr_ang_mom = np.matmul(I, w_array[:, i])   # multiply the matrix to the current vector (stored as a column)\n",
    "             \n",
    "    ang_mom_array[:, i] = curr_ang_mom           # replace a column with the current angular momentum vector\n",
    "\n",
    "print(ang_mom_array)          # returns an array with its columns as vector values for L\n",
    "print(w_array)\n",
    "\n",
    "\n"
   ]
  },
  {
   "cell_type": "code",
   "execution_count": 7,
   "metadata": {
    "scrolled": true
   },
   "outputs": [
    {
     "data": {
      "image/png": "[encoded data removed]",
      "text/plain": [
       "<Figure size 960x288 with 3 Axes>"
      ]
     },
     "metadata": {
      "needs_background": "light"
     },
     "output_type": "display_data"
    }
   ],
   "source": [
    "\"\"\"\n",
    "Now, we graph\n",
    "\"\"\"\n",
    "from mpl_toolkits.mplot3d import Axes3D\n",
    "\n",
    "# set up a figure twice as wide as it is tall\n",
    "fig = plt.figure(figsize=plt.figaspect(0.3))  # set up a figure where the height is just 30% of the width\n",
    "                                              # to make room for the 3 subplots\n",
    "                                       \n",
    "# =============\n",
    "# First subplot\n",
    "# =============\n",
    "# set up the axes for the first plot\n",
    "ax = fig.add_subplot(1, 3, 1, projection='3d')    # the 3 int arg reads \"1X3 grid, 1st subplot\"\n",
    "w_1 = ax.quiver(0, 0, 0, 1, 0, 0, color ='orange', label = '$\\omega$')\n",
    "L_1 = ax.quiver(0, 0, 0, ang_mom_array[0,0], ang_mom_array[1,0], ang_mom_array[2,0], color='red', label = 'L')\n",
    "\n",
    "\n",
    "\n",
    "ax.set_xlim([-1, 1])\n",
    "ax.set_ylim([-1, 1])\n",
    "ax.set_zlim([-1, 1])\n",
    "\n",
    "\n",
    "# ==============\n",
    "# Second subplot\n",
    "# ==============\n",
    "# set up the axes for the second plot\n",
    "ax = fig.add_subplot(1, 3, 2, projection='3d')    # the 3 int arg reads \"1X3 grid, 2nd subplot\"\n",
    "w_2 = ax.quiver(0, 0, 0, 0, 1, 0, color='orange', label='$\\omega$')\n",
    "L_2 = ax.quiver(0, 0, 0, ang_mom_array[0,1], ang_mom_array[1,1], ang_mom_array[2,1], color='red', label ='L')\n",
    "\n",
    "ax.set_xlim([-1, 1])\n",
    "ax.set_ylim([-1, 1])\n",
    "ax.set_zlim([-1, 1])\n",
    "\n",
    "# ax.set(title = 'Plots of Vectors L and $\\omega$')\n",
    "# I couldn't figure out how to set font size and other parameters if I use ax.set(title='str')\n",
    "# Instead, I just put a text in the figure (not the axis in this case)\n",
    "\n",
    "plt.figtext(.5,.9,'Plots of Vectors L and $\\omega$', fontsize=20, ha='center')\n",
    "# The first two args specify x,y coordinates and they range from [0,1]. I copypasted this code\n",
    "# from Stackoverflow so I have no idea of the exact effect each number does. \n",
    "\n",
    "\n",
    "# ==============\n",
    "# Third subplot\n",
    "# ==============\n",
    "# set up the axes for the second plot \n",
    "ax = fig.add_subplot(1, 3, 3, projection='3d')   # the 3 int arg reads \"1X3 grid, 3rd subplot\"\n",
    "w_3 = ax.quiver(0, 0, 0, 0, 0, 1, color='orange', label='$\\omega$')\n",
    "L_3 = ax.quiver(0, 0, 0, ang_mom_array[0,2], ang_mom_array[1,2], ang_mom_array[2,2], color='red', label='L') \n",
    "\n",
    "ax.set_xlim([-1, 1])\n",
    "ax.set_ylim([-1, 1])\n",
    "ax.set_zlim([-1, 1])\n",
    "\n",
    "\n",
    "\n",
    "\n",
    "plt.legend(fontsize='13')    # the default was small\n",
    "\n",
    "\n",
    "plt.show()    "
   ]
  },
  {
   "cell_type": "markdown",
   "metadata": {},
   "source": [
    "As we can see, the angular momentum L and the angular velocity $\\omega$ are neither parallel or normal to each other."
   ]
  },
  {
   "attachments": {},
   "cell_type": "markdown",
   "metadata": {},
   "source": [
    "##### Comments - Leo\n",
    "\n",
    "- **Score: 15/15**"
   ]
  },
  {
   "cell_type": "markdown",
   "metadata": {
    "id": "HceOjNu-VfN9"
   },
   "source": [
    "### PROBLEM 4 (25 pts.; 50/50 for code & discussion)\n",
    "\n",
    "**Solve a nonlinear equation using the relaxation method**\n",
    "\n",
    "Consider the equation $x=1- e^{-cx}$, where $c$ is a known parameter and $x$ is unknown. This equation arises in a variety of situations, including the physics of contact processes, mathematical models of epidemics, and the theory of random graphs.\n",
    "\n",
    "1. Write a program to solve this equation for $x$ using the relaxation method for the case $c = 2$. Calculate your solution to an accuracy of at least $10^{-6}$. *(10 pts.)*\n",
    "\n",
    "2. Modify your program to calculate the solution for values of $c$ from 0 to 3 in steps of 0.01. *(10 pts.)* \n",
    "\n",
    "3. Make a plot of $x$ as a function of $c$. Describe the different regimes that you see. *(5 pts.)*"
   ]
  },
  {
   "cell_type": "code",
   "execution_count": 8,
   "metadata": {
    "id": "p28JF-OQYock"
   },
   "outputs": [
    {
     "name": "stdout",
     "output_type": "stream",
     "text": [
      "0.7968133630966887\n"
     ]
    }
   ],
   "source": [
    "x = 1.0           # initial guess\n",
    "c = 2             # in this problem\n",
    "des_err = 10**-6  # duh\n",
    "\n",
    "\n",
    "def f(x,c):    # input array/float, output array/float\n",
    "    return 1 - np.exp(-c*x)\n",
    "\n",
    "\n",
    "def err(x_prev, x_curr):   # error of current x value\n",
    "    return abs(x_prev - x_curr) / abs(1 - 1/(c/np.exp(c*x_prev)))  \n",
    "# this is the equation for error on the relaxation method shown in the book and lecture slides (which I followed)\n",
    "\n",
    "\n",
    "\n",
    "def relax(x, c, des_err):   # args: initial x (float), constant c (float), desired error (float)\n",
    "    while True: \n",
    "        x_next = f(x, c)        # feed x into f(x) then store that to be the new value of x_next, then repeat later\n",
    "    #   print(err(x, x_next))   # WE CAN UNCOMMENT THIS LINE TO SEE THE ERROR AT EACH ITERATION\n",
    "        if err(x, x_next) <= des_err:  # check if the error condition is met for the current value for x_next\n",
    "            break\n",
    "        else:\n",
    "            x = x_next   # store x_next into x so we can use it as args for f(x) on the next iteration\n",
    "\n",
    "\n",
    "    return x                    # WE CAN PUT THIS PRINT FUNCTION INSIDE THE WHILE LOOP TO SEE EACH ITERATION OF x.\n",
    "                                # EITHER ONE INDENT OR TWO IS FINE\n",
    "        \n",
    "print(relax(x, c, des_err))\n",
    "\n",
    "  \n"
   ]
  },
  {
   "cell_type": "markdown",
   "metadata": {},
   "source": [
    "We see that there is a solution at around x = 0.796812. We can further confirm this if we run more iterations of the loop. \n",
    "Now, we do it for ranging values of c from 0 to 3"
   ]
  },
  {
   "cell_type": "code",
   "execution_count": 9,
   "metadata": {},
   "outputs": [],
   "source": [
    "x_2 = 1.0                          # initial guess\n",
    "c_2 = np.arange(0.01, 3.01, 0.01)  # in this item, c is an array with 300 items. I don't like 0's since I can't divide them\n",
    "                                   # I used 0.01 as a start out of habit. We can extrapolate what happens at 0 naman. \n",
    "\n",
    "\n",
    "relax_array = np.array([])         # we will store the results here for each vals in c_2\n",
    "\n",
    "\n",
    "for vals in c_2:                   # iterate over elements of c_2\n",
    "    curr_relax = relax(x_2, vals, des_err)    # calculate solution x for current c using relaxation method\n",
    "    relax_array = np.append(relax_array, curr_relax)   # store it \n",
    "\n",
    "# print(relax_array)                 # amogus printus, uncomment mo nalang kung gusto mo iprint yung solutions for each c\n",
    "                                     # beware that the array has 300 items (very big, much wow)"
   ]
  },
  {
   "cell_type": "code",
   "execution_count": 10,
   "metadata": {},
   "outputs": [
    {
     "data": {
      "image/png": "[encoded data removed]",
      "text/plain": [
       "<Figure size 432x288 with 1 Axes>"
      ]
     },
     "metadata": {
      "needs_background": "light"
     },
     "output_type": "display_data"
    }
   ],
   "source": [
    "\n",
    "\"\"\"\n",
    "Now, we graph\n",
    "\"\"\"\n",
    "\n",
    "\n",
    "fig, ax = plt.subplots()\n",
    "\n",
    "plot = ax.plot(c_2, relax_array, ls='-',  color='r')\n",
    "\n",
    "ax.set(title = 'Solution of the Exponential Equation with Varying Constants',\n",
    "      ylabel = 'Solution (x)',\n",
    "      xlabel = 'Exponential Constant (c)')\n",
    "\n",
    "plt.show()"
   ]
  },
  {
   "cell_type": "markdown",
   "metadata": {},
   "source": [
    "This plot was a surprise for me the first time I saw it since it does not look like a \"normal function\" - it looks\n",
    "\"artificial\". When the constant is less than or equal to 1, the solution is located at the origin (x = 0). However when the constant exceeds c = 1, the solution moves to the right. The solutions plateaus at x = 1, which we can confirm if we add more values for c in the c_2 variable. It is easy to do, just change the 3.01 to any other. "
   ]
  },
  {
   "attachments": {},
   "cell_type": "markdown",
   "metadata": {},
   "source": [
    "##### Comments - Leo\n",
    "\n",
    "- **Score: 25/25**"
   ]
  },
  {
   "cell_type": "markdown",
   "metadata": {
    "id": "BY5x-mZsYoqG"
   },
   "source": [
    "### PROBLEM 5 (30 pts.; 50/50 for code & discussion)\n",
    "\n",
    "**Physics Application: Calculating the Lagrange point**\n",
    "\n",
    "_Refer to Exercise 6.16 of the Newman text._ The $L_1$ Lagrange point is the point between the Earth and the Moon at which a satellite will orbit the Earth in perfect synchrony with the Moon, staying always in between the two. \n",
    "\n",
    "Assuming circular orbits, and assuming that the Earth is much more massive than either the Moon or the satellite, the distance $r$ from the center of the Earth to the $L_1$ point satisfies\n",
    "$$ \\begin{equation}\n",
    "\\frac{GM}{r^2} - \\frac{Gm}{(R-r)^2} = \\omega^2 r,\n",
    "\\end{equation} $$\n",
    "where $R$ is the distance from the Earth to the Moon, $M$ and $m$ are the Earth and Moon masses, $G$ is Newton's gravitational constant, and $\\omega$ is the angular velocity of both the Moon and the satellite."
   ]
  },
  {
   "cell_type": "markdown",
   "metadata": {
    "id": "LlDDXIZ46CKU"
   },
   "source": [
    "Use either one of (i) Newton's method or (ii) the secant method to solve for the distance r from the Earth to the $L_1$ point. Compute a solution accurate to at least four significant figures. (30 pts.) "
   ]
  },
  {
   "cell_type": "markdown",
   "metadata": {},
   "source": [
    "We can show that the equation above can be written as\n",
    "\n",
    "$$ \\frac{GM}{r^2} - \\frac{Gm}{\\left(R-r^2 \\right)} = r \\omega^2  $$\n",
    "$$ R\\left(GM - \\omega^2 r^3 \\right) = Gr^2(m+M) - \\omega^2 r^5 $$\n",
    "$$ \\omega^2 r^5 - R\\omega^2r^3 - G\\left(m + M \\right)r^2 + RGM = 0 $$\n",
    "\n",
    "This is of the form $g(r) = 0$, in a quintic form, so we can easily differentiate it and then apply the Newton-Rhapson method. The derivative of $g(r)$ is then easily obtained as:\n",
    "\n",
    "$$ g'(r) = 5\\omega^2 r^4 - 3R\\omega^2r^2 - 2G\\left(m + M \\right)r $$"
   ]
  },
  {
   "cell_type": "code",
   "execution_count": 2,
   "metadata": {},
   "outputs": [
    {
     "name": "stdout",
     "output_type": "stream",
     "text": [
      "r = 0.5\n",
      "r = 379729342.0584889\n",
      "r = 384959510.2023608\n",
      "r = 384752889.2527836\n",
      "r = 384752555.9755682\n"
     ]
    },
    {
     "data": {
      "text/plain": [
       "'\\nWe can see that if we uncomment the code below, the function g(x) experiences 5 abrupt changes in values \\nas we vary r: \\n'"
      ]
     },
     "execution_count": 2,
     "metadata": {},
     "output_type": "execute_result"
    }
   ],
   "source": [
    "\"\"\"\n",
    "First we define the function g and its derivative g_prime:\n",
    "\n",
    "\"\"\"\n",
    "import math \n",
    "\n",
    "R = 3.844*(10**8)        # distance from earth to moon (meters)\n",
    "M = 5.974*(10**24)       # mass of earth (kg)\n",
    "m = 7.348*(10**22)       # mass of moon (kg)\n",
    "G = 6.674*(10**-11)      # Newton's gravitational constant in S.I. units\n",
    "w = 2.662*(10**-6)       # this is omega; the moon takes 27.3 days or 2358720 seconds to revolve around the earth\n",
    "r = 0.5               # initial guess for r in meters above the Earth\n",
    "des_err = 10**(-4)       # four significant figures in decimals\n",
    "\n",
    "\n",
    "def g(r):\n",
    "    return (w**2)*(r**5) - R*(w**2)*(r**3) - G*(m + M)*(r**2) + R*G*M   \n",
    "\n",
    "def g_prime(r):\n",
    "    return 5*(w**2)*(r**4) - 3*R*(w**2)*(r**2) - 2*G*(m + M)*r\n",
    "\n",
    "\n",
    "\n",
    "# def g(r):                      # these are test functions, and they work for my algorithm below. \n",
    "#     return r**2 + 2*r          # you can uncomment them, AND THEN comment the 2 functions above\n",
    "\n",
    "# def g_prime(r):\n",
    "#     return 2*r + 2\n",
    "\n",
    "\n",
    "def new_estimate(r):\n",
    "    quotient = g(r) / g_prime(r) \n",
    "    return r - quotient\n",
    "\n",
    "def check_terminate(r_ini, r_next):    # condition if we will terminate the loop below based on des_err\n",
    "    err = abs(r_next - r_ini)\n",
    "    \n",
    "    if err <= des_err:\n",
    "        l = True\n",
    "    else:\n",
    "        l = False\n",
    "    return l, err                      # two outputs, a boolean to dictate if des_err is met and the error itself\n",
    "\n",
    "\n",
    "while True:                            # this loops does Newton's method for finding a new r, until des_err is met\n",
    "    r_next = new_estimate(r)\n",
    "    if check_terminate(r, r_next)[0] == True:     # if we have enough sig figs\n",
    "        break \n",
    "    else:\n",
    "        print(\"r = \" + str(r))\n",
    "#         print(\"r_next = \" + str(r_next))\n",
    "#         print(\"err = \" + str(check_terminate(r, r_next)[1]))      # you can uncomment these for more info\n",
    "#         print(\"g(r) = \" + str(g(r)))\n",
    "        r = r_next\n",
    "        \n",
    "        \n",
    "\"\"\"       \n",
    "The next block plots r vs g(r) but I don't know if matplotlib is accurate for very large values. You can uncomment\n",
    "\"\"\"\n",
    "\n",
    "# r = np.arange(0.01, 25000, 0.01)\n",
    "\n",
    "\n",
    "# fig,ax = plt.subplots()\n",
    "# ax.set_xlabel('r')\n",
    "\n",
    "# ax.set_ylabel('g', color = 'red')\n",
    "# ax.plot(r, g(r), 'r')\n",
    "# ax2 = ax.twinx()\n",
    "# ax2.plot(r, g_prime(r), 'b')\n",
    "# ax2.set_ylabel('g_prime', color='blue')\n",
    "\n",
    "\n",
    "\n",
    "# plt.show()\n",
    "\n",
    "\n",
    "\"\"\"\n",
    "We can see that if we uncomment the code below, the function g(x) experiences 5 abrupt changes in values \n",
    "as we vary r: \n",
    "\"\"\"\n",
    "# count = 0\n",
    "# for vals in r:\n",
    "    \n",
    "#     print(count)\n",
    "#     print(g(vals))\n",
    "#     count += 1\n",
    "    \n",
    "# # there is a abrupt change from r = 1148 to 1149; 1884 to 1885; 1942 to 1943; 1948 to 1949; 1955 to 1956\n",
    "# # these "
   ]
  },
  {
   "cell_type": "markdown",
   "metadata": {},
   "source": [
    "This code WORKS for simple functions such as the commented g(r) = 2r^2 + 2r = 0, but I don't know if the results\n",
    "giving the Lagrange point are accurate since I have no reference. Maybe I'll update the code. Written: 11/15/2022"
   ]
  },
  {
   "attachments": {},
   "cell_type": "markdown",
   "metadata": {},
   "source": [
    "##### Comments - Leo\n",
    "\n",
    "- For the reference, you can actually google it and it will show that it should be around 3.26 x 10**8 m.\n",
    "- You can update pa naman your code to correct it but your score now is final haha.\n",
    "- **Score: 27/30**"
   ]
  },
  {
   "cell_type": "markdown",
   "metadata": {},
   "source": []
  }
 ],
 "metadata": {
  "colab": {
   "provenance": []
  },
  "kernelspec": {
   "display_name": "Python 3 (ipykernel)",
   "language": "python",
   "name": "python3"
  },
  "language_info": {
   "codemirror_mode": {
    "name": "ipython",
    "version": 3
   },
   "file_extension": ".py",
   "mimetype": "text/x-python",
   "name": "python",
   "nbconvert_exporter": "python",
   "pygments_lexer": "ipython3",
   "version": "3.9.12"
  }
 },
 "nbformat": 4,
 "nbformat_minor": 1
}
