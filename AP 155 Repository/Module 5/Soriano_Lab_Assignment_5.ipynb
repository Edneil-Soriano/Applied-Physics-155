{
 "cells": [
  {
   "cell_type": "markdown",
   "metadata": {
    "id": "G0BcK0H_G1Iu"
   },
   "source": [
    "# **AP155 Lab Assignment** \n",
    "## Module 6: Partial Differential Equations\n",
    "\n",
    "_Instructions_: Answer each problem as completely as you can. Discuss **all** your answers as clearly and concisely as possible. \n",
    "\n",
    "_Scoring Criteria_: 50% - *correctness of code*; 50% - *discussion of the code and results*. Maximum score is **100 points** (Problems 1 and 2 are worth 50 points each).\n",
    "\n",
    "_Due Date_: **5PM of December 21 (Tue)**\n"
   ]
  },
  {
   "cell_type": "markdown",
   "metadata": {},
   "source": [
    "# READ ME:"
   ]
  },
  {
   "cell_type": "markdown",
   "metadata": {},
   "source": [
    "There are two cells below desginated for animating. These cells take up a relatively huge amount of power, so be careful. \n",
    "Some cells of code require you to run every cell at once since they reference variables from other cells. In this case,\n",
    "you can comment out the animation cells to avoid running them. "
   ]
  },
  {
   "cell_type": "markdown",
   "metadata": {
    "id": "PeHZ9kP8JaVR"
   },
   "source": [
    "### Student Information \n",
    "\n",
    "_Full Name (Last Name, First Name)_: Soriano, Edneil E. Jr.\\\n",
    "_Student No._: 2020-02420 \\\n",
    "_Section_: HX-2"
   ]
  },
  {
   "cell_type": "markdown",
   "metadata": {
    "id": "Hc183co-J4eI"
   },
   "source": [
    "### Submission Information\n",
    "\n",
    "_Date and Time Submitted (most recent upload)_: \n",
    "\n",
    "**HONOR PLEDGE** I affirm that I have upheld the highest principles of honesty and integrity in my academic work and that this lab assignment is my own work.\n",
    "\n",
    "**Sign here with your full name:** "
   ]
  },
  {
   "attachments": {},
   "cell_type": "markdown",
   "metadata": {
    "id": "ZfImNZs6FgGA"
   },
   "source": [
    "### Grading Information (c/o Lab Instructor)\n",
    "\n",
    "TOTAL SCORE: **100**/100\n",
    "\n",
    "Score breakdown:\n",
    "* Problem 1 - 50/50\n",
    "* Problem 2 - 50/50\n",
    "\n",
    "_Date and Time Scored (MM/DD/YYYY HH:MM AM/PM):_ "
   ]
  },
  {
   "cell_type": "markdown",
   "metadata": {
    "id": "LxWuqiCFMsEh"
   },
   "source": [
    "### PROBLEM 1 (50 pts.; 50/50 for code & discussion) \n",
    "**The Schrodinger equation and the Crank-Nicolson method**\n",
    "\n",
    "_Refer to Exercise 9.8 in the Newman text._ In this problem, you will use the Crank-Nicolson method to solve the full time-dependent Schrodinger equation and hence develop a picture of how a wavefunction evolves over time.\n",
    "\n",
    "Consider an electron (mass $M = 9.109 \\times 10^{-31}$ kg) in a box of length $L = 10^{-8}$ m. Suppose that at time $t = 0$ the wavefunction of the electron has the form\n",
    "\n",
    "$$ \\psi(x,0) = \\exp\\left[-\\frac{(x-x_0)^2}{2\\sigma^2}\\right]e^{i\\kappa x},$$\n",
    "where $x_0 = \\frac{L}{2}$, $\\sigma = 1 \\times 10^{-10}$ m, $\\kappa = 5 \\times 10^{10} {\\rm m}^{-1}$,  and $\\psi = 0$ on the walls at $x = 0$ and $x = L$."
   ]
  },
  {
   "cell_type": "markdown",
   "metadata": {
    "id": "VIkyCA1L2Vlt"
   },
   "source": [
    "1. Perform a single step of the Crank-Nicolson method for this electron, calculating the vector $\\psi(t)$ of values of the wavefunction, given the initial wavefunction above and using $N = 1000$ spatial slices with $a = L/N$. Your program will have to perform the following steps. First, given the vector $\\psi(0)$ at $t = 0$, you will have to multiply by the matrix $\\bf{B}$ to get a vector $\\bf{v} = \\bf{B}\\psi$. Because of the tridiagonal form of $\\bf{B}$, this is fairly simple. The $i$th component of $\\bf{v}$ is given by\n",
    "$$ v_i = b_1\\psi_i + b_2(\\psi_{i+1} + \\psi_{i-1}).$$\n",
    "\n",
    "   You will also have to choose a value for the time-step $h$. A reasonable choice is $h = 10^{-18}$ s. *(15 pts.)*\n",
    "\n",
    "2. Second you will have to solve the linear system ${\\bf Ax}= {\\bf v}$ for $\\bf{x}$, which gives you the new value of $\\psi$. You could do this using a standard linear equation solver like the function $\\tt solve$ in numpy's $\\tt linalg$. *(10 pts.)*\n",
    "\n",
    "3. Once you have the code in place to perform a single step of the calculation, extend your program to perform repeated steps and hence solve for $\\psi$ at a sequence of times a separation $h$ apart. Note that the matrix $\\bf A$ is independent of time, so it doesn't change from one step to another. You can set up the matrix just once and then keep on reusing it for every step. *(15 pts.)*\n",
    "\n",
    "4. Make an animation of the solution by displaying the real part of the wavefunction at each time-step. You can use the function rate from the package visual to ensure a smooth frame-rate for your animation-- see Section 3.5 on page 117 of the Newman text. \n",
    "\n",
    "   Run your animation for a while and describe what you see. Write a few sentences explaining in physics terms what is going on in the system. *(10 pts.)*"
   ]
  },
  {
   "cell_type": "code",
   "execution_count": 1,
   "metadata": {
    "id": "hMqWOsbIMoUh"
   },
   "outputs": [],
   "source": [
    "import numpy as np\n",
    "import matplotlib.pyplot as plt\n",
    "import os\n",
    "import imageio\n",
    "import scipy.fftpack as spfft"
   ]
  },
  {
   "cell_type": "markdown",
   "metadata": {},
   "source": [
    "Below is Newman's code. It is a faster version of numpy.linalg.solve given tridiagonal matrices. However, we would need to convert the matrix into a banded form. Newman's banded form is unique, scipy requires a different format. "
   ]
  },
  {
   "cell_type": "code",
   "execution_count": 2,
   "metadata": {},
   "outputs": [],
   "source": [
    "######################################################################\n",
    "#\n",
    "# Function to solve a banded system of linear equations using\n",
    "# Gaussian elimination and backsubstitution\n",
    "#\n",
    "# x = banded(A,v,up,down)\n",
    "#\n",
    "# This function returns the vector solution x of the equation A.x = v,\n",
    "# where v is an array representing a vector of N elements, either real\n",
    "# or complex, and A is an N by N banded matrix with \"up\" nonzero\n",
    "# elements above the diagonal and \"down\" nonzero elements below the\n",
    "# diagonal.  The matrix is specified as a two-dimensional array of\n",
    "# (1+up+down) by N elements with the diagonals of the original matrix\n",
    "# along its rows, thus:\n",
    "#\n",
    "#   (  -   -  A02 A13 A24 ...\n",
    "#   (  -  A01 A12 A23 A34 ...\n",
    "#   ( A00 A11 A22 A33 A44 ...\n",
    "#   ( A10 A21 A32 A43 A54 ...\n",
    "#   ( A20 A31 A42 A53 A64 ...\n",
    "#\n",
    "# Elements represented by dashes are ignored -- it doesn't matter what\n",
    "# these elements contain.  The size of the system is taken from the\n",
    "# size of the vector v.  If the matrix A is larger than NxN then the\n",
    "# extras are ignored.  If it is smaller, the program will produce an\n",
    "# error.\n",
    "#\n",
    "# The function is compatible with version 2 and version 3 of Python.\n",
    "#\n",
    "# Written by Mark Newman <mejn@umich.edu>, September 4, 2011\n",
    "# You may use, share, or modify this file freely\n",
    "#\n",
    "######################################################################\n",
    "\n",
    "from numpy import copy\n",
    "\n",
    "def banded(Aa,va,up,down):\n",
    "\n",
    "    # Copy the inputs and determine the size of the system\n",
    "    A = copy(Aa)\n",
    "    v = copy(va)\n",
    "    N = len(v)\n",
    "\n",
    "    # Gaussian elimination\n",
    "    for m in range(N):\n",
    "\n",
    "        # Normalization factor\n",
    "        div = A[up,m]\n",
    "\n",
    "        # Update the vector first\n",
    "        v[m] /= div\n",
    "        for k in range(1,down+1):\n",
    "            if m+k<N:\n",
    "                v[m+k] -= A[up+k,m]*v[m]\n",
    "\n",
    "        # Now normalize the pivot row of A and subtract from lower ones\n",
    "        for i in range(up):\n",
    "            j = m + up - i\n",
    "            if j<N:\n",
    "                A[i,j] /= div\n",
    "                for k in range(1,down+1):\n",
    "                    A[i+k,j] -= A[up+k,m]*A[i,j]\n",
    "\n",
    "    # Backsubstitution\n",
    "    for m in range(N-2,-1,-1):\n",
    "        for i in range(up):\n",
    "            j = m + up - i\n",
    "            if j<N:\n",
    "                v[m] -= A[i,j]*v[j]\n",
    "\n",
    "    return v"
   ]
  },
  {
   "cell_type": "code",
   "execution_count": 3,
   "metadata": {},
   "outputs": [],
   "source": [
    "h = 1e-18*10            # the funne quantum constant :kek:\n",
    "hbar = 1.0546e-36\n",
    "L = 1e-8                # the size of the well is L accdg. to the problem\n",
    "M = 9.109e-31           # electron mass in kg\n",
    "N = 1000                # slices according to the prob\n",
    "a = L/N                 # width of each slice, not to be confused with elements of A\n",
    "x_o = L/2               # constant defined in the problem, dictated the location of the initial center\n",
    "sigma = 1e-10           # constant defined in the problem\n",
    "k = 5e10                # this is kappa, hehehehe\n",
    "\n",
    "\"\"\"\n",
    "Now, we initialize the elements for matrix A\n",
    "\"\"\"\n",
    "a1 = 1 + h*hbar/2/M/a**2*1j\n",
    "a2 = -h*hbar*1j/4/M/a**2\n",
    "\"\"\"\n",
    "Now, we initialize the elements for matrix B\n",
    "\"\"\"\n",
    "b1 = 1 - h*hbar/2/M/a**2*1j\n",
    "b2 =h*hbar*1j/4/M/a**2\n",
    "\n",
    "\n",
    "\n",
    "psi = np.zeros(N+1,complex)    # if we have N slices, we have N+1 elements (imagine 3 slices first para madali)\n",
    "\n",
    "def psi_ini(x):\n",
    "    return np.exp(-(x-x_o)**2/2/sigma**2)*np.exp(1j*k*x)   # just the initial wave function given above\n",
    "\n",
    "x = np.linspace(0,L,N+1)       # we get evenly spaced sample points from O to L\n",
    "psi[:] = psi_ini(x)         # instead of using a for loop to call the function for each element, we do this\n",
    "\n",
    "psi[[0,N]]=0                # these are the boundary conditions, we \"hard set\" them ALWAYS                \n",
    "\n",
    "\n",
    "A = np.empty((3,N),complex)   # we define the banded matrix not as a square, but as dictated by Newman's banded.py\n",
    "\n",
    "A[0,:] = a2   # upper diagonal\n",
    "A[1,:] = a1   # main diagonal\n",
    "A[2:,] = a2   # lower diagonal"
   ]
  },
  {
   "cell_type": "markdown",
   "metadata": {},
   "source": [
    "We now have an array(vector) psi that contains the values for the initial wave function. Now, we can multiply this\n",
    "to the matrix B from the Newman text to obtain v. Since B is a tridiagonal matrix, the ith element of v is stated in \n",
    "the formula above: $$ v_i = b_1\\psi_i + b_2(\\psi_{i+1} + \\psi_{i-1}).$$ \n",
    "\n",
    "We also rewritten the tridiagonal matrix A into the banded form prescribed by Newman's code in the cell above. Since we \n",
    "now have matrix A and the vector v, \n",
    "\n",
    "If we let $\\lambda$ be the wave function at another time:  $$\\lambda = \\psi(x,\\ t + h_{step})$$ Then all we need to do is solve for the eigenvalue equation:\n",
    "\n",
    "$$\\bf{A} \\lambda  =  \\bf{B}$$\n",
    "\n",
    "We can use np.linalg.solve, but Newman wrote a faster code banded.py to skip all the zeroes in the matrix. We pass it to a for loop to loop the looping program with several iterations of desired looping. We can change the argument of the for loop; a higher number means more time has passed. One loop corresponds to $10^{-18}s$"
   ]
  },
  {
   "cell_type": "code",
   "execution_count": 4,
   "metadata": {},
   "outputs": [
    {
     "data": {
      "image/png": "[encoded data removed]",
      "text/plain": [
       "<Figure size 432x288 with 1 Axes>"
      ]
     },
     "metadata": {
      "needs_background": "light"
     },
     "output_type": "display_data"
    }
   ],
   "source": [
    "\"\"\"\n",
    "IF YOU WANT TO START FROM STEP = 0, RUN ALL CELLS AFTER CHANGING STEPS, COMMENT OUT ALL ANIMATION CELLS \n",
    "IF YOU WANT TO START FROM STEP = 0, RUN ALL CELLS AFTER CHANGING STEPS, COMMENT OUT ALL ANIMATION CELLS \n",
    "IF YOU WANT TO START FROM STEP = 0, RUN ALL CELLS AFTER CHANGING STEPS, COMMENT OUT ALL ANIMATION CELLS \n",
    "\"\"\"\n",
    "\n",
    "def psi_evolve(steps):\n",
    "    for i in range(steps):         \n",
    "        v = b1*psi[1:N] + b2*(psi[2:N+1] + psi[0:N-1])  # solve for the ith element of v\n",
    "        psi[1:N] = banded(A,v,1,1)         # use v to calculate the next iteration for psi, overwrite the old iteration\n",
    "    return psi\n",
    "\n",
    "steps = 200\n",
    "psi = psi_evolve(steps)        # do the process for whatever steps\n",
    "\n",
    "# We plot the real part of the wavefunction. The imaginary part is safely neglected. The detailed reason why is\n",
    "# derived in a Quantum class, but basically all eigenfunctions can be taken as real. \n",
    "\n",
    "fig, ax = plt.subplots()\n",
    "ax.plot(x, np.real(psi), color='r')  \n",
    "ax.set_xlabel('meters')\n",
    "ax.set_ylabel('$\\psi$')\n",
    "plt.title('Time-Dependent Wavefunction (' + str(steps) + \") steps\")\n",
    "\n",
    "plt.show()"
   ]
  },
  {
   "cell_type": "code",
   "execution_count": 5,
   "metadata": {},
   "outputs": [],
   "source": [
    "\"\"\"\n",
    "THIS IS AN ANIMATION CELL, THIS IS AN ANIMATION CELL, THIS IS AN ANIMATION CELL, THIS IS AN ANIMATION CELL\n",
    "Now, we animate :  https://towardsdatascience.com/basics-of-gifs-with-pythons-matplotlib-54dd544b6f30\n",
    "RUN ALL CELLS, THE VARIABLE steps IS DEFINED IN THE CELL IMMEDIATELY ABOVE\n",
    "RUN ALL CELLS, THE VARIABLE steps IS DEFINED IN THE CELL IMMEDIATELY ABOVE\n",
    "RUN ALL CELLS, THE VARIABLE steps IS DEFINED IN THE CELL IMMEDIATELY ABOVE\n",
    "RUN ALL CELLS, THE VARIABLE steps IS DEFINED IN THE CELL IMMEDIATELY ABOVE\n",
    "\"\"\"\n",
    "filenames = []\n",
    "for i in range(steps):\n",
    "    if i % 50 == 0:    # do it if the current step is a multiple of 50; you can increase to drop fps AND computation time\n",
    "        plt.plot(x, np.real(psi_evolve(i)), color='r')  # plot psi_evolve(i) - which is the current steps\n",
    "        plt.ylim(-1, 1)\n",
    "        plt.xlabel('meters')\n",
    "        plt.ylabel('$\\psi$')\n",
    "        plt.title('Time-Dependent Wavefunction (' + str(steps) + \") iterations\")\n",
    "    \n",
    "        # create file name and append it to a list\n",
    "        filename = f'{i}.png'\n",
    "        filenames.append(filename)\n",
    "        \n",
    "        # save frame\n",
    "        plt.savefig(filename)\n",
    "        plt.close()\n",
    "        \n",
    "    else: \n",
    "        continue\n",
    "        \n",
    "# build gif, it's semi-readable but I just got it from the website\n",
    "with imageio.get_writer('wavefunc.gif', mode='I') as writer:\n",
    "    for filename in filenames:\n",
    "        image = imageio.imread(filename)\n",
    "        writer.append_data(image)\n",
    "\n",
    "# Remove files from directory\n",
    "for filename in set(filenames):\n",
    "    os.remove(filename)"
   ]
  },
  {
   "cell_type": "markdown",
   "metadata": {},
   "source": [
    "A copy of the gif is provided in the same github repo directory under the filename:\n",
    "\n",
    "$$\\bf{\"wavefunc.gif\"}$$\n",
    "\n",
    "It shows that the particle will bounce inside the 1D \"box\" it is constrained on. However, the wave function becomes less and less localized as time goes on. I think this is Heisenberg's uncertainty principle in action. More movement meant less precision for the position of the particle. \n",
    "\n",
    "This exercise was quite hard, but it's pretty cool! I know that my animation algorithm isn't the most efficient, but I've spent more time (about 5x more time) on the animation than the problem so I'm gonna do the sane thing and stop, be contented, and live a happy life."
   ]
  },
  {
   "cell_type": "markdown",
   "metadata": {
    "id": "kBX9EyMLOnXj"
   },
   "source": [
    "### PROBLEM 2 (50 pts.; 50/50 for code & discussion)\n",
    "\n",
    "**The Schrodinger equation and the spectral method**\n",
    "\n",
    "_Refer to Exercise 9.9 in the Newman text._ In this problem, you will use the spectral method to solve the time-dependent Schodinger equation for the same system as in Problem 1, a single particle in one dimension in a box of length $L$ with impenetrable walls. \n",
    "\n",
    "To perform the fast transforms needed for this problem, you can use the scipy $\\tt fftpack$ package's discrete sine transform $\\tt dst$ ([documentation](https://docs.scipy.org/doc/scipy/reference/generated/scipy.fftpack.dst.html)) and inverse discrete sine transform $\\tt idst$ ([documentation](https://docs.scipy.org/doc/scipy/reference/generated/scipy.fftpack.idst.html)). Alternatively, you can use the corresponding functions in the $\\tt dcst$ package in Appendix E of the Newman text. \n",
    "\n",
    "1. Calculate the values of the coefficients $b_k$ which for convenience can be broken down into their real and imaginary parts as $b_k = \\alpha_k + i \\eta_k$· Divide the box into $N = 1000$ slices and create two arrays containing the real and imaginary parts of $\\psi(x_n,0)$ at each grid point. Perform discrete sine transforms on each array separately and hence calculate the values of the $\\alpha_k$ and $\\eta_k$ for all $k=1$...$N-1$. *(15 pts.)*\n",
    "\n",
    "2. Putting $b_k = \\alpha_k +i \\eta_k$ in the solution above and taking the real part we get $ {\\rm Re}\\ \\psi(x_n, t) $ equals\n",
    "$$\\frac{1}{N} \\sum_{k=1}^{N-1} \\left[\\alpha_k \\cos\\left(\\frac{\\pi^2\\hbar k^2}{2ML^2}t\\right) - \\eta_k \\sin\\left(\\frac{\\pi^2\\hbar k^2}{2ML^2}t\\right)\\right]\\sin\\left(\\frac{\\pi kn}{N}\\right)$$\n",
    "for the real part of the wavefunction. This is an inverse sine transform with coefficients equal to the quantities in the square brackets. \n",
    "\n",
    "   Calculate the real part of the wavefunction $\\psi(x,t)$ at an arbitrary time $t$ using this formula and the inverse discrete sine transform function. *(10 pts.)* \n",
    "   \n",
    "3. Test your program by making a graph of the wavefunction at time $t = 10^{-16}$ s. *(10 pts.)*\n",
    "\n",
    "4. Make an animation of the wavefunction over time, similar to that described in part (4) of Problem 1 above. A suitable time interval for each frame of the animation is about $10^{-18}$ s. Run your animation for a while and describe what you see. Write a few sentences explaining in physics terms what is going on in the system. *(15 pts.)*\n"
   ]
  },
  {
   "cell_type": "code",
   "execution_count": 6,
   "metadata": {
    "scrolled": false
   },
   "outputs": [
    {
     "data": {
      "image/png": "[encoded data removed]",
      "text/plain": [
       "<Figure size 432x288 with 1 Axes>"
      ]
     },
     "metadata": {
      "needs_background": "light"
     },
     "output_type": "display_data"
    }
   ],
   "source": [
    "\"\"\"\n",
    "THIS CELL REQUIRES YOU TO RUN ALL CELLS, COMMENT OUT ALL ANIMATION CELLS\n",
    "THIS CELL REQUIRES YOU TO RUN ALL CELLS, COMMENT OUT ALL ANIMATION CELLS\n",
    "THIS CELL REQUIRES YOU TO RUN ALL CELLS, COMMENT OUT ALL ANIMATION CELLS\n",
    "\"\"\"\n",
    "\n",
    "\n",
    "\n",
    "psi[:] = psi_ini(x)       # we assign the values of the initial wave function again because we changed it in cells above\n",
    "psi[[0,N]]=0              # these are the boundary conditions, we \"hard set\" them ALWAYS \n",
    "\n",
    "alpha = spfft.dst(np.real(psi))     # calculate fourier coefficients, this is the real part\n",
    "eta = spfft.dst(np.imag(psi))       # this is the imaginary part\n",
    "\n",
    "\n",
    "\n",
    "femto = 50                 # type time in femotseconds here\n",
    "t = femto*(10**-15)         # convert to seconds\n",
    "def solve_spectral(t):\n",
    "    \n",
    "    k = np.arange(1,N+2)        # initialize k \n",
    "\n",
    "    alpha_coeff = alpha*np.cos(np.pi**2*hbar*k**2/2/M/L**2*t)    # use the formula above\n",
    "    eta_coeff = eta*np.sin(np.pi**2*hbar*k**2/2/M/L**2*t)\n",
    "\n",
    "    psi_new = spfft.idst(alpha_coeff + eta_coeff)/N         # add them, get the inverse transform to get the psi \n",
    "    return psi_new\n",
    "psi_new = solve_spectral(t)\n",
    "plt.plot(x, psi_new)\n",
    "plt.title(\"Wavefunction after \" + str(femto) + \" femtosecond/s\")\n",
    "plt.show()"
   ]
  },
  {
   "cell_type": "code",
   "execution_count": 9,
   "metadata": {},
   "outputs": [],
   "source": [
    "\"\"\"\n",
    "THIS IS AN ANIMATION CELL, THIS IS AN ANIMATION CELL, THIS IS AN ANIMATION CELL, THIS IS AN ANIMATION CELL\n",
    "Now, we animate :  https://towardsdatascience.com/basics-of-gifs-with-pythons-matplotlib-54dd544b6f30\n",
    "RUN ALL CELLS, THE VARIABLE steps IS DEFINED IN THE CELL IMMEDIATELY ABOVE\n",
    "RUN ALL CELLS, THE VARIABLE steps IS DEFINED IN THE CELL IMMEDIATELY ABOVE\n",
    "RUN ALL CELLS, THE VARIABLE steps IS DEFINED IN THE CELL IMMEDIATELY ABOVE\n",
    "RUN ALL CELLS, THE VARIABLE steps IS DEFINED IN THE CELL IMMEDIATELY ABOVE\n",
    "\"\"\"\n",
    "\n",
    "time_end = 500    # in femtoseconds (1e-15)\n",
    "\n",
    "filenames = []\n",
    "\n",
    "for femto in range(time_end):\n",
    "    if femto % 5 == 0:                 # only render multiples of 5 femtoseconds\n",
    "        t = femto*(10**-15)            # convert to seconds\n",
    "        psi_new = solve_spectral(t)    # solve for psi at time t\n",
    "        \n",
    "        # plot current psi\n",
    "        plt.plot(x, psi_new, color='r')\n",
    "        plt.ylim(-1, 1)\n",
    "        plt.xlabel('meters')\n",
    "        plt.ylabel('$\\psi$')\n",
    "        plt.title(\"Wavefunction after \" + str(femto) + \" femtosecond/s\")\n",
    "        \n",
    "        # create file name and append it to a list\n",
    "        filename = f'{femto}.png'\n",
    "        filenames.append(filename)\n",
    "        \n",
    "        # save frame\n",
    "        plt.savefig(filename)\n",
    "        plt.close()\n",
    "    else:\n",
    "        continue\n",
    "\n",
    "# build gif, it's semi-readable but I just got it from the website\n",
    "with imageio.get_writer('wavefunc_spec.gif', mode='I') as writer:\n",
    "    for filename in filenames:\n",
    "        image = imageio.imread(filename)\n",
    "        writer.append_data(image)\n",
    "\n",
    "# Remove files from directory\n",
    "for filename in set(filenames):\n",
    "    os.remove(filename)"
   ]
  },
  {
   "cell_type": "markdown",
   "metadata": {},
   "source": [
    "A copy of the gif is provided in the same github repo directory under the filename:\n",
    "\n",
    "$$\\bf{\"wavefunc\\_spec.gif\"}$$\n",
    "\n",
    "It shows the same behaviour as the previous, with the particle bouncing around the 1D box with a duration of about 500 femtoseconds. However, this method produces the wave function at a time t even without information from previous states. Hence, it is much much faster than the previous method. The animation time went from waiting minutes to mere seconds. "
   ]
  },
  {
   "cell_type": "markdown",
   "metadata": {
    "id": "R0g43FSaZdBz"
   },
   "source": []
  }
 ],
 "metadata": {
  "colab": {
   "provenance": []
  },
  "kernelspec": {
   "display_name": "Python 3 (ipykernel)",
   "language": "python",
   "name": "python3"
  },
  "language_info": {
   "codemirror_mode": {
    "name": "ipython",
    "version": 3
   },
   "file_extension": ".py",
   "mimetype": "text/x-python",
   "name": "python",
   "nbconvert_exporter": "python",
   "pygments_lexer": "ipython3",
   "version": "3.9.12"
  }
 },
 "nbformat": 4,
 "nbformat_minor": 1
}
